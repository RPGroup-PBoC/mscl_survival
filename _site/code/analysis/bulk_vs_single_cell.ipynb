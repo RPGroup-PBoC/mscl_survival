{
 "cells": [
  {
   "cell_type": "markdown",
   "metadata": {},
   "source": [
    "# Comparing bulk and single-cell survival probabilities"
   ]
  },
  {
   "cell_type": "code",
   "execution_count": 1,
   "metadata": {
    "collapsed": true
   },
   "outputs": [],
   "source": [
    "import sys\n",
    "import numpy as np\n",
    "import pandas as pd\n",
    "import matplotlib.pyplot as plt\n",
    "import tqdm\n",
    "sys.path.insert(0, '../../')\n",
    "import mscl.stats\n",
    "import mscl.plotting\n",
    "import scipy.spatial\n",
    "import sklearn.metrics\n",
    "import tqdm\n",
    "colors = mscl.plotting.set_plotting_style()\n",
    "%matplotlib inline"
   ]
  },
  {
   "cell_type": "code",
   "execution_count": 2,
   "metadata": {
    "collapsed": true
   },
   "outputs": [],
   "source": [
    "# Load the constants from the logistic regression.\n",
    "stats = pd.read_csv('../../data/csv/complete_mcmc_stats.csv')\n",
    "# Get the statistics only for the fast shock.\n",
    "beta_0 = stats[stats['parameter'] == 'beta_0__0']['median'].values[0]\n",
    "beta_1 = stats[stats['parameter'] == 'beta_1__0']['median'].values[0]"
   ]
  },
  {
   "cell_type": "markdown",
   "metadata": {
    "collapsed": true
   },
   "source": [
    "## Bulk experiment simulations"
   ]
  },
  {
   "cell_type": "markdown",
   "metadata": {},
   "source": [
    "Two competing factors -- proximity and the width of the distribution. We consider both separately.  "
   ]
  },
  {
   "cell_type": "code",
   "execution_count": 3,
   "metadata": {
    "collapsed": true
   },
   "outputs": [],
   "source": [
    "def plate_cells(n_cells, spot_area):\n",
    "    \"\"\"\n",
    "    Computationally spread cells onto an agar plate of a defined area.\n",
    "    \"\"\"\n",
    "    return np.random.uniform(0, spot_area, size=(2, n_cells))\n",
    "    \n",
    "\n",
    "def proximity_filter(coords, min_distance=500):\n",
    "    \"\"\"\n",
    "    Computes pairwise distances between coordinates and returns the minimum  \n",
    "    number of cells.\n",
    "    \n",
    "    Parameters\n",
    "    ----------\n",
    "    coords: 2d-array\n",
    "        Array of x, y coordinates with N rows and 2 columns.\n",
    "        \n",
    "    min_distance: int\n",
    "        Minimum distance between cells to be considered different colonies.\n",
    "        \n",
    "    Returns\n",
    "    -------\n",
    "    num_colonies: int\n",
    "        The number of colonies on the plate\n",
    "    \"\"\" \n",
    "    num_colonies = 0\n",
    "    max_block = 1000\n",
    "    if len(coords[:, 0]) > 1000:\n",
    "        blocks = np.arange(0, len(coords[:, 0]), 1000)\n",
    "        if len(coords[:, 0]) % 1000 == 0:\n",
    "            coords = [coords[blocks[k]:blocks[k+1]] for k in range(len(blocks)-1)]\n",
    "        else:\n",
    "            _coords = [coords[blocks[k]:blocks[k+1]] for k in range(len(blocks)-1)]\n",
    "            _coords.append(coords[len(coords[:, 0]) - len(coords[:, 0]) % 1000])\n",
    "            coords = _coords\n",
    "        for c in coords:\n",
    "            dist = sklearn.metrics.pairwise.euclidean_distances(coords.T)\n",
    "            num_colonies += np.min(np.sum(dist >= min_distance, axis=0)) \n",
    "    else: \n",
    "        dist = sklearn.metrics.pairwise.euclidean_distances(coords.T)\n",
    "        num_colonies = np.min(np.sum(dist >= min_distance, axis=0))    \n",
    "        \n",
    "    return num_colonies, dist\n",
    "    \n",
    "def plate_dilution_factors(survivors, spot_area, min_distance=500):\n",
    "    \"\"\"\n",
    "    Perform computational plating for a set of serial dilutions. \n",
    "    \"\"\"\n",
    "    detected_colonies = []\n",
    "    for i, samp in enumerate(survivors):\n",
    "        if samp != 0:\n",
    "            coords = plate_cells(samp, spot_area) \n",
    "            num_colonies, dist = proximity_filter(coords, min_distance)\n",
    "        else:\n",
    "            num_colonies = 0\n",
    "            dist = 0\n",
    "        detected_colonies.append(num_colonies)\n",
    "    return detected_colonies, dist"
   ]
  },
  {
   "cell_type": "code",
   "execution_count": 4,
   "metadata": {
    "collapsed": true
   },
   "outputs": [],
   "source": [
    "def determine_survivors(chan_mu, chan_sigma, n_cells, beta_0, beta_1):\n",
    "    \"\"\"\n",
    "    Given statistics of channel distribution, compute and return number of survivors \n",
    "    after shock as predicted by logistic regression.\n",
    "    \n",
    "    Parameters\n",
    "    ----------\n",
    "    chan_mu, chan_sigma : float\n",
    "        The mean and standard deviation for channel expression distribution.\n",
    "    n_cells: int\n",
    "        The total number of cells exposed to the osmotic shock.\n",
    "    beta_0, beta_1 : float\n",
    "        The coefficients of the logistic regression.\n",
    "        \n",
    "    Returns\n",
    "    -------\n",
    "    n_survivors : int\n",
    "        The total number of surviving cells.\n",
    "    channels : 1d-array\n",
    "        Array of channel counts for survivors.\n",
    "    \"\"\" \n",
    "    # Generate the channel distribution. \n",
    "    cells = np.random.normal(loc=chan_mu, scale=chan_sigma, size=n_cells).astype(int)\n",
    "        \n",
    "    # Compute the survival probability for each cell given a channel number.\n",
    "    logit = beta_0 + beta_1 * np.log(cells)\n",
    "    p_s = (1 + np.exp(-logit))**-1\n",
    "    \n",
    "    # Apply the shock and determine the survivors.\n",
    "    coin_flips = np.random.random(n_cells) < p_s\n",
    "    n_survivors = np.sum(coin_flips).astype(int)\n",
    "    \n",
    "    # Determine which cells survived.\n",
    "    survivors = cells[coin_flips]\n",
    "    return n_survivors, survivors"
   ]
  },
  {
   "cell_type": "code",
   "execution_count": 5,
   "metadata": {
    "collapsed": true
   },
   "outputs": [],
   "source": [
    "def serial_dilution(n_cells, dilution_factor):\n",
    "    \"\"\"\n",
    "    Preform a serial dilution from a pool of n_cells.\n",
    "    \n",
    "    Parameters\n",
    "    ----------\n",
    "    n_cells: int\n",
    "        The total number of cells at the beginning of the serial dilution\n",
    "    dilution_factor: int or list of ints\n",
    "        The dilution factors to be applied. \n",
    "    \"\"\"\n",
    "    if type(dilution_factor) == int:\n",
    "        dilution_factor = list(dlution_factor)\n",
    "    \n",
    "    diluted_cells = []\n",
    "    for i, d in enumerate(dilution_factor):\n",
    "        # Set the number of cells in each dilution.\n",
    "        if i == 0:\n",
    "            p = 1 / d\n",
    "            n_cells = np.sum(np.random.random(n_cells) < p) \n",
    "        else:\n",
    "            p = 1 / np.exp(np.log(d) - np.log(dilution_factor[i-1]))\n",
    "            n_cells = np.sum(np.random.random(n_cells) < p)\n",
    "            diluted_cells[i - 1] -= n_cells\n",
    "        diluted_cells.append(n_cells) \n",
    "    return diluted_cells"
   ]
  },
  {
   "cell_type": "code",
   "execution_count": 6,
   "metadata": {
    "collapsed": true
   },
   "outputs": [],
   "source": [
    "def compute_probability(df):\n",
    "    grouped = df.groupby(['dilution_factor'])\n",
    "    prob_df = pd.DataFrame([], columns=['prob_mean', 'prob_err', 'dilution_factor'])\n",
    "    for g, d in grouped:\n",
    "        exp = d[d['experiment'] == 'shock']['survivors'].values\n",
    "        cntrl = d[d['experiment'] == 'control']['survivors'].values\n",
    "        mean_prob = np.mean(exp / cntrl)\n",
    "        sem_prob = np.std(exp / cntrl) / np.sqrt(n_simulations)\n",
    "        prob_df = prob_df.append({'prob_mean':mean_prob, 'mean_exp_cells':np.mean(exp), 'mean_control_cells': np.mean(cntrl), \n",
    "                                  'prob_err':sem_prob, 'dilution_factor':g},\n",
    "                                ignore_index=True)\n",
    "        prob_df.dropna(inplace=True)\n",
    "    return prob_df "
   ]
  },
  {
   "cell_type": "code",
   "execution_count": 7,
   "metadata": {
    "collapsed": false,
    "scrolled": false
   },
   "outputs": [
    {
     "name": "stderr",
     "output_type": "stream",
     "text": [
      "  0%|          | 0/5 [00:00<?, ?it/s]/opt/anaconda/lib/python3.6/site-packages/ipykernel/__main__.py:16: VisibleDeprecationWarning: using a non-integer number instead of an integer will result in an error in the future\n",
      "/opt/anaconda/lib/python3.6/site-packages/ipykernel/__main__.py:20: VisibleDeprecationWarning: using a non-integer number instead of an integer will result in an error in the future\n"
     ]
    },
    {
     "name": "stdout",
     "output_type": "stream",
     "text": [
      "[53944, 5412, 503, 57, 4, 0]\n"
     ]
    },
    {
     "name": "stderr",
     "output_type": "stream",
     "text": [
      "/opt/anaconda/lib/python3.6/site-packages/ipykernel/__main__.py:23: VisibleDeprecationWarning: using a non-integer number instead of an integer will result in an error in the future\n",
      "/opt/anaconda/lib/python3.6/site-packages/ipykernel/__main__.py:26: RuntimeWarning: divide by zero encountered in log\n",
      "/opt/anaconda/lib/python3.6/site-packages/ipykernel/__main__.py:26: RuntimeWarning: invalid value encountered in log\n",
      "/opt/anaconda/lib/python3.6/site-packages/ipykernel/__main__.py:30: VisibleDeprecationWarning: using a non-integer number instead of an integer will result in an error in the future\n",
      "/opt/anaconda/lib/python3.6/site-packages/ipykernel/__main__.py:30: RuntimeWarning: invalid value encountered in less\n"
     ]
    },
    {
     "name": "stdout",
     "output_type": "stream",
     "text": [
      "[40248, 4066, 366, 32, 3, 1]\n"
     ]
    },
    {
     "name": "stderr",
     "output_type": "stream",
     "text": [
      "\r",
      " 20%|██        | 1/5 [03:09<12:39, 189.88s/it]"
     ]
    },
    {
     "name": "stdout",
     "output_type": "stream",
     "text": [
      "[53953, 5414, 509, 50, 6, 3]\n",
      "[39960, 3961, 388, 39, 2, 0]\n"
     ]
    },
    {
     "name": "stderr",
     "output_type": "stream",
     "text": [
      "\r",
      " 40%|████      | 2/5 [05:56<08:55, 178.35s/it]"
     ]
    },
    {
     "name": "stdout",
     "output_type": "stream",
     "text": [
      "[54340, 5371, 544, 53, 3, 2]\n",
      "[40238, 3920, 404, 45, 3, 1]\n"
     ]
    },
    {
     "name": "stderr",
     "output_type": "stream",
     "text": [
      "\r",
      " 60%|██████    | 3/5 [08:38<05:45, 172.88s/it]"
     ]
    },
    {
     "name": "stdout",
     "output_type": "stream",
     "text": [
      "[53757, 5383, 535, 47, 6, 2]\n",
      "[40101, 3987, 402, 43, 4, 0]\n"
     ]
    },
    {
     "name": "stderr",
     "output_type": "stream",
     "text": [
      "\r",
      " 80%|████████  | 4/5 [11:00<02:45, 165.14s/it]"
     ]
    },
    {
     "name": "stdout",
     "output_type": "stream",
     "text": [
      "[54002, 5377, 547, 47, 7, 0]\n",
      "[40177, 3882, 390, 52, 3, 1]\n"
     ]
    },
    {
     "name": "stderr",
     "output_type": "stream",
     "text": [
      "100%|██████████| 5/5 [13:54<00:00, 166.97s/it]\n",
      "/opt/anaconda/lib/python3.6/site-packages/ipykernel/__main__.py:7: RuntimeWarning: invalid value encountered in true_divide\n",
      "/opt/anaconda/lib/python3.6/site-packages/ipykernel/__main__.py:8: RuntimeWarning: invalid value encountered in true_divide\n"
     ]
    }
   ],
   "source": [
    "# Perform the experiment.\n",
    "n_simulations = 5 \n",
    "chan_mu = 500\n",
    "chan_sigma = 200\n",
    "n_cells = 6E5 # of cells in 2µL at OD0.3\n",
    "spot_area = 5E3 # In pixels with a width of 2µm\n",
    "min_distance = 250 # Min distance in units of 2µm \n",
    "beta_0 = -8\n",
    "beta_1 = 1.5\n",
    "dilution_factor = [1E1, 1E2, 1E3, 1E4, 1E5, 1E6]\n",
    "experiments = ['control', 'shock']\n",
    "dfs = []\n",
    "for n in tqdm.tqdm(range(n_simulations)):\n",
    "    for i, exp in enumerate(experiments):\n",
    "        if exp == 'control':\n",
    "            cells = np.random.normal(chan_mu, chan_sigma, n_cells).astype(int)\n",
    "            n_surv = n_cells\n",
    "        else:\n",
    "            n_surv, cells = determine_survivors(chan_mu, chan_sigma, n_cells, beta_0, beta_1)\n",
    "            n_surv = n_surv\n",
    "            \n",
    "        # Perform the serial dilutions.\n",
    "        dilution = serial_dilution(n_surv, dilution_factor) \n",
    "        print(dilution)\n",
    "        spots, dist = plate_dilution_factors(dilution, spot_area, min_distance=min_distance)\n",
    "        \n",
    "        # Assemble a dataframe.\n",
    "        _df = pd.DataFrame(np.array([spots, dilution_factor]).T, \n",
    "                          columns = ['survivors', 'dilution_factor'])\n",
    "        _df.loc[:, 'experiment'] = exp\n",
    "        _df.loc[:, 'simulation'] = n + 1\n",
    "        dfs.append(_df)\n",
    "    \n",
    "df = pd.concat(dfs, ignore_index=True)\n",
    "prob_df = compute_probability(df)"
   ]
  },
  {
   "cell_type": "code",
   "execution_count": 8,
   "metadata": {
    "collapsed": false,
    "scrolled": true
   },
   "outputs": [
    {
     "name": "stderr",
     "output_type": "stream",
     "text": [
      "/opt/anaconda/lib/python3.6/site-packages/ipykernel/__main__.py:7: RuntimeWarning: invalid value encountered in true_divide\n",
      "/opt/anaconda/lib/python3.6/site-packages/ipykernel/__main__.py:8: RuntimeWarning: invalid value encountered in true_divide\n"
     ]
    }
   ],
   "source": [
    "prob_df = compute_probability(df)"
   ]
  },
  {
   "cell_type": "code",
   "execution_count": 10,
   "metadata": {
    "collapsed": false
   },
   "outputs": [
    {
     "data": {
      "text/html": [
       "<div>\n",
       "<table border=\"1\" class=\"dataframe\">\n",
       "  <thead>\n",
       "    <tr style=\"text-align: right;\">\n",
       "      <th></th>\n",
       "      <th>prob_mean</th>\n",
       "      <th>prob_err</th>\n",
       "      <th>dilution_factor</th>\n",
       "      <th>mean_control_cells</th>\n",
       "      <th>mean_exp_cells</th>\n",
       "    </tr>\n",
       "  </thead>\n",
       "  <tbody>\n",
       "    <tr>\n",
       "      <th>0</th>\n",
       "      <td>0.743206</td>\n",
       "      <td>0.001051</td>\n",
       "      <td>10.0</td>\n",
       "      <td>53498.4</td>\n",
       "      <td>39760.0</td>\n",
       "    </tr>\n",
       "    <tr>\n",
       "      <th>1</th>\n",
       "      <td>0.734250</td>\n",
       "      <td>0.004506</td>\n",
       "      <td>100.0</td>\n",
       "      <td>5327.2</td>\n",
       "      <td>3911.6</td>\n",
       "    </tr>\n",
       "    <tr>\n",
       "      <th>2</th>\n",
       "      <td>0.736928</td>\n",
       "      <td>0.008046</td>\n",
       "      <td>1000.0</td>\n",
       "      <td>515.8</td>\n",
       "      <td>380.0</td>\n",
       "    </tr>\n",
       "    <tr>\n",
       "      <th>3</th>\n",
       "      <td>0.831844</td>\n",
       "      <td>0.087453</td>\n",
       "      <td>10000.0</td>\n",
       "      <td>48.0</td>\n",
       "      <td>39.2</td>\n",
       "    </tr>\n",
       "    <tr>\n",
       "      <th>4</th>\n",
       "      <td>0.560000</td>\n",
       "      <td>0.124508</td>\n",
       "      <td>100000.0</td>\n",
       "      <td>4.2</td>\n",
       "      <td>2.0</td>\n",
       "    </tr>\n",
       "  </tbody>\n",
       "</table>\n",
       "</div>"
      ],
      "text/plain": [
       "   prob_mean  prob_err  dilution_factor  mean_control_cells  mean_exp_cells\n",
       "0   0.743206  0.001051             10.0             53498.4         39760.0\n",
       "1   0.734250  0.004506            100.0              5327.2          3911.6\n",
       "2   0.736928  0.008046           1000.0               515.8           380.0\n",
       "3   0.831844  0.087453          10000.0                48.0            39.2\n",
       "4   0.560000  0.124508         100000.0                 4.2             2.0"
      ]
     },
     "execution_count": 10,
     "metadata": {},
     "output_type": "execute_result"
    }
   ],
   "source": [
    "prob_df"
   ]
  },
  {
   "cell_type": "code",
   "execution_count": 11,
   "metadata": {
    "collapsed": false
   },
   "outputs": [],
   "source": [
    "coords = plate_cells(dilution[0], spot_area)"
   ]
  },
  {
   "cell_type": "code",
   "execution_count": 12,
   "metadata": {
    "collapsed": false
   },
   "outputs": [
    {
     "data": {
      "text/plain": [
       "array([1, 1])"
      ]
     },
     "execution_count": 12,
     "metadata": {},
     "output_type": "execute_result"
    }
   ],
   "source": [
    "np.sum(sklearn.metrics.pairwise.euclidean_distances(coords) >= min_distance, axis=0)"
   ]
  },
  {
   "cell_type": "code",
   "execution_count": null,
   "metadata": {
    "collapsed": false
   },
   "outputs": [],
   "source": []
  },
  {
   "cell_type": "code",
   "execution_count": null,
   "metadata": {
    "collapsed": true
   },
   "outputs": [],
   "source": []
  }
 ],
 "metadata": {
  "kernelspec": {
   "display_name": "Python [default]",
   "language": "python",
   "name": "python3"
  },
  "language_info": {
   "codemirror_mode": {
    "name": "ipython",
    "version": 3
   },
   "file_extension": ".py",
   "mimetype": "text/x-python",
   "name": "python",
   "nbconvert_exporter": "python",
   "pygments_lexer": "ipython3",
   "version": "3.6.5"
  },
  "latex_envs": {
   "LaTeX_envs_menu_present": true,
   "autoclose": false,
   "autocomplete": true,
   "bibliofile": "biblio.bib",
   "cite_by": "apalike",
   "current_citInitial": 1,
   "eqLabelWithNumbers": true,
   "eqNumInitial": 1,
   "hotkeys": {
    "equation": "Ctrl-E",
    "itemize": "Ctrl-I"
   },
   "labels_anchors": false,
   "latex_user_defs": false,
   "report_style_numbering": false,
   "user_envs_cfg": false
  }
 },
 "nbformat": 4,
 "nbformat_minor": 2
}
