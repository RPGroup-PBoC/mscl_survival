{
 "cells": [
  {
   "cell_type": "markdown",
   "metadata": {},
   "source": [
    "# Logistic regression sensitivity analysis"
   ]
  },
  {
   "cell_type": "code",
   "execution_count": 2,
   "metadata": {
    "collapsed": false
   },
   "outputs": [],
   "source": [
    "import sys\n",
    "import numpy as np\n",
    "import matplotlib.pyplot as plt\n",
    "sys.path.insert(0, '../../')\n",
    "import mscl.stats\n",
    "colors =  mscl.plotting.set_plotting_style()\n",
    "%matplotlib inline"
   ]
  },
  {
   "cell_type": "code",
   "execution_count": 3,
   "metadata": {
    "collapsed": true
   },
   "outputs": [],
   "source": [
    "def logistic_regression(Nc, beta_0, beta_1):\n",
    "    logit = beta_0 + beta_1 * np.log(Nc)\n",
    "    return (1 + np.exp(-logit))**-1"
   ]
  },
  {
   "cell_type": "code",
   "execution_count": 28,
   "metadata": {
    "collapsed": true
   },
   "outputs": [],
   "source": [
    "beta_0 = -15\n",
    "beta_1 = np.linspace(0, 10, 500)\n",
    "Nc = np.logspace(0, 3, 500)\n",
    "x,y = np.meshgrid(Nc, beta_1)\n",
    "prob = logistic_regression(x, beta_0, y)"
   ]
  },
  {
   "cell_type": "code",
   "execution_count": 31,
   "metadata": {
    "collapsed": false
   },
   "outputs": [
    {
     "data": {
      "text/plain": [
       "<matplotlib.contour.QuadContourSet at 0x7fb712ef09e8>"
      ]
     },
     "execution_count": 31,
     "metadata": {},
     "output_type": "execute_result"
    },
    {
     "name": "stderr",
     "output_type": "stream",
     "text": [
      "/opt/anaconda/lib/python3.6/site-packages/matplotlib/font_manager.py:1297: UserWarning: findfont: Font family ['Lucida Sans Unicode'] not found. Falling back to DejaVu Sans\n",
      "  (prop.get_family(), self.defaultFamily[fontext]))\n"
     ]
    },
    {
     "data": {
      "image/png": "[encoded data removed]",
      "text/plain": [
       "<matplotlib.figure.Figure at 0x7fb712fd7908>"
      ]
     },
     "metadata": {},
     "output_type": "display_data"
    }
   ],
   "source": [
    "fig, ax = plt.subplots(1,1)\n",
    "ax.set_xscale('log')\n",
    "ax.contourf(Nc, beta_1, prob, cmap='viridis')\n"
   ]
  },
  {
   "cell_type": "code",
   "execution_count": 13,
   "metadata": {
    "collapsed": false
   },
   "outputs": [
    {
     "data": {
      "text/plain": [
       "array([[ 0.5       ,  0.50009247,  0.50036989, ...,  1.        ,\n",
       "         1.        ,  1.        ],\n",
       "       [ 0.50500985,  0.50510232,  0.5053797 , ...,  1.        ,\n",
       "         1.        ,  1.        ],\n",
       "       [ 0.5100187 ,  0.51011113,  0.51038844, ...,  1.        ,\n",
       "         1.        ,  1.        ],\n",
       "       ..., \n",
       "       [ 0.99995275,  0.99995276,  0.99995282, ...,  1.        ,\n",
       "         1.        ,  1.        ],\n",
       "       [ 0.99995368,  0.9999537 ,  0.99995375, ...,  1.        ,\n",
       "         1.        ,  1.        ],\n",
       "       [ 0.9999546 ,  0.99995462,  0.99995467, ...,  1.        ,\n",
       "         1.        ,  1.        ]])"
      ]
     },
     "execution_count": 13,
     "metadata": {},
     "output_type": "execute_result"
    }
   ],
   "source": []
  },
  {
   "cell_type": "code",
   "execution_count": null,
   "metadata": {
    "collapsed": true
   },
   "outputs": [],
   "source": []
  }
 ],
 "metadata": {
  "kernelspec": {
   "display_name": "Python [conda root]",
   "language": "python",
   "name": "conda-root-py"
  },
  "language_info": {
   "codemirror_mode": {
    "name": "ipython",
    "version": 3
   },
   "file_extension": ".py",
   "mimetype": "text/x-python",
   "name": "python",
   "nbconvert_exporter": "python",
   "pygments_lexer": "ipython3",
   "version": "3.6.5"
  }
 },
 "nbformat": 4,
 "nbformat_minor": 2
}
